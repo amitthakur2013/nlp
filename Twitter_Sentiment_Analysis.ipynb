{
  "nbformat": 4,
  "nbformat_minor": 0,
  "metadata": {
    "colab": {
      "name": "Twitter-Sentiment-Analysis.ipynb",
      "provenance": [],
      "include_colab_link": true
    },
    "kernelspec": {
      "name": "python3",
      "display_name": "Python 3"
    }
  },
  "cells": [
    {
      "cell_type": "markdown",
      "metadata": {
        "id": "view-in-github",
        "colab_type": "text"
      },
      "source": [
        "<a href=\"https://colab.research.google.com/github/amitthakur2013/nlp/blob/master/Twitter_Sentiment_Analysis.ipynb\" target=\"_parent\"><img src=\"https://colab.research.google.com/assets/colab-badge.svg\" alt=\"Open In Colab\"/></a>"
      ]
    },
    {
      "cell_type": "code",
      "metadata": {
        "id": "IIU1Lm0wOZ5G",
        "colab_type": "code",
        "colab": {
          "base_uri": "https://localhost:8080/",
          "height": 340
        },
        "outputId": "6e3018ce-239c-441c-bfbf-da6e534b4b10"
      },
      "source": [
        "!pip install textblob tweepy matplotlib\n"
      ],
      "execution_count": 78,
      "outputs": [
        {
          "output_type": "stream",
          "text": [
            "Requirement already satisfied: textblob in /usr/local/lib/python3.6/dist-packages (0.15.3)\n",
            "Requirement already satisfied: tweepy in /usr/local/lib/python3.6/dist-packages (3.6.0)\n",
            "Requirement already satisfied: matplotlib in /usr/local/lib/python3.6/dist-packages (3.1.1)\n",
            "Requirement already satisfied: nltk>=3.1 in /usr/local/lib/python3.6/dist-packages (from textblob) (3.2.5)\n",
            "Requirement already satisfied: requests>=2.11.1 in /usr/local/lib/python3.6/dist-packages (from tweepy) (2.21.0)\n",
            "Requirement already satisfied: six>=1.10.0 in /usr/local/lib/python3.6/dist-packages (from tweepy) (1.12.0)\n",
            "Requirement already satisfied: requests-oauthlib>=0.7.0 in /usr/local/lib/python3.6/dist-packages (from tweepy) (1.2.0)\n",
            "Requirement already satisfied: PySocks>=1.5.7 in /usr/local/lib/python3.6/dist-packages (from tweepy) (1.7.1)\n",
            "Requirement already satisfied: pyparsing!=2.0.4,!=2.1.2,!=2.1.6,>=2.0.1 in /usr/local/lib/python3.6/dist-packages (from matplotlib) (2.4.2)\n",
            "Requirement already satisfied: cycler>=0.10 in /usr/local/lib/python3.6/dist-packages (from matplotlib) (0.10.0)\n",
            "Requirement already satisfied: kiwisolver>=1.0.1 in /usr/local/lib/python3.6/dist-packages (from matplotlib) (1.1.0)\n",
            "Requirement already satisfied: numpy>=1.11 in /usr/local/lib/python3.6/dist-packages (from matplotlib) (1.17.3)\n",
            "Requirement already satisfied: python-dateutil>=2.1 in /usr/local/lib/python3.6/dist-packages (from matplotlib) (2.6.1)\n",
            "Requirement already satisfied: certifi>=2017.4.17 in /usr/local/lib/python3.6/dist-packages (from requests>=2.11.1->tweepy) (2019.9.11)\n",
            "Requirement already satisfied: chardet<3.1.0,>=3.0.2 in /usr/local/lib/python3.6/dist-packages (from requests>=2.11.1->tweepy) (3.0.4)\n",
            "Requirement already satisfied: idna<2.9,>=2.5 in /usr/local/lib/python3.6/dist-packages (from requests>=2.11.1->tweepy) (2.8)\n",
            "Requirement already satisfied: urllib3<1.25,>=1.21.1 in /usr/local/lib/python3.6/dist-packages (from requests>=2.11.1->tweepy) (1.24.3)\n",
            "Requirement already satisfied: oauthlib>=3.0.0 in /usr/local/lib/python3.6/dist-packages (from requests-oauthlib>=0.7.0->tweepy) (3.1.0)\n",
            "Requirement already satisfied: setuptools in /usr/local/lib/python3.6/dist-packages (from kiwisolver>=1.0.1->matplotlib) (41.4.0)\n"
          ],
          "name": "stdout"
        }
      ]
    },
    {
      "cell_type": "code",
      "metadata": {
        "id": "P7ky6cA1O3JS",
        "colab_type": "code",
        "colab": {}
      },
      "source": [
        "from textblob import TextBlob\n",
        "import sys, tweepy\n",
        "import matplotlib.pyplot as plt"
      ],
      "execution_count": 0,
      "outputs": []
    },
    {
      "cell_type": "code",
      "metadata": {
        "id": "6Tnc43w7O5S_",
        "colab_type": "code",
        "colab": {}
      },
      "source": [
        "def percentage(part, whole):\n",
        "  return 100 * float(part)/float(whole)"
      ],
      "execution_count": 0,
      "outputs": []
    },
    {
      "cell_type": "code",
      "metadata": {
        "id": "dnKZq6FNTTXI",
        "colab_type": "code",
        "colab": {}
      },
      "source": [
        "consumerKey=\"58QZ1yew4RiK6Kdh1cFOrlqPO\"\n",
        "consumerSecret=\"pvS4xUHSP84CNsWlxP6YH8rxgFP7ZJzUmVCekHvDuI0vk5bkGb\"\n",
        "accessToken=\"598985744-sG96Q21U46ehBRqeLs0kfJhz6MEcX47opk089rbX\"\n",
        "accessTokenSecret=\"y8nziEiYJLpWiFcbVEgccYClOrcQWbn3gHSQZorwKdXBn\""
      ],
      "execution_count": 0,
      "outputs": []
    },
    {
      "cell_type": "code",
      "metadata": {
        "id": "1ebyGEr2Tcnc",
        "colab_type": "code",
        "colab": {}
      },
      "source": [
        "auth =tweepy.OAuthHandler(consumer_key=consumerKey, consumer_secret=consumerSecret)\n",
        "auth.set_access_token(accessToken, accessTokenSecret)\n",
        "api= tweepy.API(auth)"
      ],
      "execution_count": 0,
      "outputs": []
    },
    {
      "cell_type": "code",
      "metadata": {
        "id": "c5dVS7pPULTj",
        "colab_type": "code",
        "colab": {
          "base_uri": "https://localhost:8080/",
          "height": 51
        },
        "outputId": "8996ead5-f0c1-46d1-baaf-ad09a4209c8b"
      },
      "source": [
        "searchTerm=input(\"enter keyword/hashtag to search about: \")\n",
        "noOfSearchTerms=int(input(\"Enter how many tweets to analyze: \"))"
      ],
      "execution_count": 83,
      "outputs": [
        {
          "output_type": "stream",
          "text": [
            "enter keyword/hashtag to search about: trump\n",
            "Enter how many tweets to analyze: 200\n"
          ],
          "name": "stdout"
        }
      ]
    },
    {
      "cell_type": "code",
      "metadata": {
        "id": "4ZCHvoFrUZyR",
        "colab_type": "code",
        "colab": {}
      },
      "source": [
        "tweets=tweepy.Cursor(api.search, q=searchTerm, language=\"English\").items(noOfSearchTerms)"
      ],
      "execution_count": 0,
      "outputs": []
    },
    {
      "cell_type": "code",
      "metadata": {
        "id": "cLmnTrjUUwh4",
        "colab_type": "code",
        "colab": {}
      },
      "source": [
        "positive=0\n",
        "negative=0\n",
        "neutral=0\n",
        "polarity=0\n",
        "for tweet in tweets:\n",
        "  analysis=TextBlob(tweet.text)\n",
        "  polarity+=analysis.sentiment.polarity\n",
        "  \n",
        "  if(analysis.sentiment.polarity == 0):\n",
        "    neutral+=1\n",
        "  elif(analysis.sentiment.polarity < 0):\n",
        "    negative+=1\n",
        "  elif(analysis.sentiment.polarity > 0):\n",
        "    positive+=1\n",
        "positive=percentage(positive, noOfSearchTerms)\n",
        "negative=percentage(negative, noOfSearchTerms)\n",
        "neutral=percentage(neutral, noOfSearchTerms)\n",
        "polarity=percentage(polarity,noOfSearchTerms)\n",
        "\n",
        "positive=format(positive,'0.2f')\n",
        "negative=format(negative,'0.2f')\n",
        "neutral=format(neutral,'0.2f')\n",
        "\n",
        "print(\"How people are reacting on \"+searchTerm+\" by analyzing \"+str(noOfSearchTerms)+\" Tweets.\")\n",
        "\n",
        "if(polarity == 0.00):\n",
        "  print(\"Neutral\")\n",
        "elif(polarity < 0.00):\n",
        "  print(\"Negative\")\n",
        "elif(polarity > 0.00):\n",
        "  print(\"Positive\")"
      ],
      "execution_count": 0,
      "outputs": []
    },
    {
      "cell_type": "code",
      "metadata": {
        "id": "Uyqr6mnXVK_j",
        "colab_type": "code",
        "colab": {}
      },
      "source": [
        "labels=['Positive ['+str(positive)+'%]', 'Neutral ['+str(neutral)+'%]', 'Negative ['+str(negative)+'%]']\n",
        "sizes=[positive,neutral,negative]\n",
        "colors=['yellowgreen','gold','red']\n",
        "patches, texts=plt.pie(sizes, colors=colors, startangle=90)\n",
        "plt.legend(patches, labels, loc=\"best\")\n",
        "plt.title(\"How people are reacting on \"+searchTerm+\" by analyzing \"+str(noOfSearchTerms)+\" Tweets.\")\n",
        "plt.axis('equal')\n",
        "plt.tight_layout()\n",
        "plt.show()"
      ],
      "execution_count": 0,
      "outputs": []
    },
    {
      "cell_type": "code",
      "metadata": {
        "id": "lQi4hPDAZEqd",
        "colab_type": "code",
        "colab": {}
      },
      "source": [
        ""
      ],
      "execution_count": 0,
      "outputs": []
    }
  ]
}