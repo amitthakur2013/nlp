{
  "nbformat": 4,
  "nbformat_minor": 0,
  "metadata": {
    "colab": {
      "name": "Untitled9.ipynb",
      "provenance": [],
      "collapsed_sections": [],
      "include_colab_link": true
    },
    "kernelspec": {
      "name": "python3",
      "display_name": "Python 3"
    }
  },
  "cells": [
    {
      "cell_type": "markdown",
      "metadata": {
        "id": "view-in-github",
        "colab_type": "text"
      },
      "source": [
        "<a href=\"https://colab.research.google.com/github/amitthakur2013/nlp/blob/master/nlp-2(spacy).ipynb\" target=\"_parent\"><img src=\"https://colab.research.google.com/assets/colab-badge.svg\" alt=\"Open In Colab\"/></a>"
      ]
    },
    {
      "cell_type": "code",
      "metadata": {
        "id": "m1Vpos85113G",
        "colab_type": "code",
        "colab": {
          "base_uri": "https://localhost:8080/",
          "height": 272
        },
        "outputId": "08e752ed-33f0-4c60-e189-44bac086d8fc"
      },
      "source": [
        "import nltk\n",
        "nltk.download('punkt')\n",
        "nltk.download('wordnet')\n",
        "nltk.download('averaged_perceptron_tagger')\n",
        "nltk.download('maxent_ne_chunker')\n",
        "nltk.download('words')"
      ],
      "execution_count": 82,
      "outputs": [
        {
          "output_type": "stream",
          "text": [
            "[nltk_data] Downloading package punkt to /root/nltk_data...\n",
            "[nltk_data]   Package punkt is already up-to-date!\n",
            "[nltk_data] Downloading package wordnet to /root/nltk_data...\n",
            "[nltk_data]   Package wordnet is already up-to-date!\n",
            "[nltk_data] Downloading package averaged_perceptron_tagger to\n",
            "[nltk_data]     /root/nltk_data...\n",
            "[nltk_data]   Package averaged_perceptron_tagger is already up-to-\n",
            "[nltk_data]       date!\n",
            "[nltk_data] Downloading package maxent_ne_chunker to\n",
            "[nltk_data]     /root/nltk_data...\n",
            "[nltk_data]   Package maxent_ne_chunker is already up-to-date!\n",
            "[nltk_data] Downloading package words to /root/nltk_data...\n",
            "[nltk_data]   Unzipping corpora/words.zip.\n"
          ],
          "name": "stdout"
        },
        {
          "output_type": "execute_result",
          "data": {
            "text/plain": [
              "True"
            ]
          },
          "metadata": {
            "tags": []
          },
          "execution_count": 82
        }
      ]
    },
    {
      "cell_type": "code",
      "metadata": {
        "id": "Me3ZK5nz2QRX",
        "colab_type": "code",
        "colab": {}
      },
      "source": [
        "from nltk.tokenize import word_tokenize"
      ],
      "execution_count": 0,
      "outputs": []
    },
    {
      "cell_type": "code",
      "metadata": {
        "id": "ZrgcW8Q42atv",
        "colab_type": "code",
        "colab": {
          "base_uri": "https://localhost:8080/",
          "height": 35
        },
        "outputId": "439b0202-1b01-4aed-ee0f-f7a0d80f93ac"
      },
      "source": [
        "cricket=\"hello i am a cricket player cricket am am\"\n",
        "cricket_tokens=word_tokenize(cricket)\n",
        "cricket_tokens"
      ],
      "execution_count": 28,
      "outputs": [
        {
          "output_type": "execute_result",
          "data": {
            "text/plain": [
              "['hello', 'i', 'am', 'a', 'cricket', 'player', 'cricket', 'am', 'am']"
            ]
          },
          "metadata": {
            "tags": []
          },
          "execution_count": 28
        }
      ]
    },
    {
      "cell_type": "code",
      "metadata": {
        "id": "dLtZtv1J24OP",
        "colab_type": "code",
        "colab": {
          "base_uri": "https://localhost:8080/",
          "height": 35
        },
        "outputId": "d2342666-cb45-4b07-c354-c08ef17fa79e"
      },
      "source": [
        "type(cricket_tokens),len(cricket_tokens)"
      ],
      "execution_count": 29,
      "outputs": [
        {
          "output_type": "execute_result",
          "data": {
            "text/plain": [
              "(list, 9)"
            ]
          },
          "metadata": {
            "tags": []
          },
          "execution_count": 29
        }
      ]
    },
    {
      "cell_type": "code",
      "metadata": {
        "id": "yngneAQc3og9",
        "colab_type": "code",
        "colab": {}
      },
      "source": [
        "from nltk.probability import FreqDist\n",
        "fdist=FreqDist()"
      ],
      "execution_count": 0,
      "outputs": []
    },
    {
      "cell_type": "code",
      "metadata": {
        "id": "qBa0doPV5VpJ",
        "colab_type": "code",
        "colab": {
          "base_uri": "https://localhost:8080/",
          "height": 35
        },
        "outputId": "cc936beb-6dc2-4d5d-e7fe-de3df825755d"
      },
      "source": [
        "for i in cricket_tokens:\n",
        "  fdist[i]+=1\n",
        "fdist"
      ],
      "execution_count": 31,
      "outputs": [
        {
          "output_type": "execute_result",
          "data": {
            "text/plain": [
              "FreqDist({'a': 1, 'am': 3, 'cricket': 2, 'hello': 1, 'i': 1, 'player': 1})"
            ]
          },
          "metadata": {
            "tags": []
          },
          "execution_count": 31
        }
      ]
    },
    {
      "cell_type": "code",
      "metadata": {
        "id": "zIvy_Nvp50I7",
        "colab_type": "code",
        "colab": {
          "base_uri": "https://localhost:8080/",
          "height": 35
        },
        "outputId": "ad953f12-0379-4081-c932-ca3cc606cce9"
      },
      "source": [
        "fdist.most_common(2)"
      ],
      "execution_count": 35,
      "outputs": [
        {
          "output_type": "execute_result",
          "data": {
            "text/plain": [
              "[('am', 3), ('cricket', 2)]"
            ]
          },
          "metadata": {
            "tags": []
          },
          "execution_count": 35
        }
      ]
    },
    {
      "cell_type": "code",
      "metadata": {
        "id": "zJd4FTCi7GFY",
        "colab_type": "code",
        "colab": {
          "base_uri": "https://localhost:8080/",
          "height": 163
        },
        "outputId": "2b7892b4-42c1-48eb-acfe-d685a31703cc"
      },
      "source": [
        "list(nltk.bigrams(cricket_tokens))"
      ],
      "execution_count": 37,
      "outputs": [
        {
          "output_type": "execute_result",
          "data": {
            "text/plain": [
              "[('hello', 'i'),\n",
              " ('i', 'am'),\n",
              " ('am', 'a'),\n",
              " ('a', 'cricket'),\n",
              " ('cricket', 'player'),\n",
              " ('player', 'cricket'),\n",
              " ('cricket', 'am'),\n",
              " ('am', 'am')]"
            ]
          },
          "metadata": {
            "tags": []
          },
          "execution_count": 37
        }
      ]
    },
    {
      "cell_type": "code",
      "metadata": {
        "id": "Mu-BV2347LVk",
        "colab_type": "code",
        "colab": {
          "base_uri": "https://localhost:8080/",
          "height": 145
        },
        "outputId": "0f35e410-6cc8-4563-dd5f-ea9322a6e39b"
      },
      "source": [
        "list(nltk.trigrams(cricket_tokens))"
      ],
      "execution_count": 39,
      "outputs": [
        {
          "output_type": "execute_result",
          "data": {
            "text/plain": [
              "[('hello', 'i', 'am'),\n",
              " ('i', 'am', 'a'),\n",
              " ('am', 'a', 'cricket'),\n",
              " ('a', 'cricket', 'player'),\n",
              " ('cricket', 'player', 'cricket'),\n",
              " ('player', 'cricket', 'am'),\n",
              " ('cricket', 'am', 'am')]"
            ]
          },
          "metadata": {
            "tags": []
          },
          "execution_count": 39
        }
      ]
    },
    {
      "cell_type": "code",
      "metadata": {
        "id": "7sjjNNwB7bwh",
        "colab_type": "code",
        "colab": {
          "base_uri": "https://localhost:8080/",
          "height": 108
        },
        "outputId": "3c1bce1a-0e06-4237-9c6f-908a093571ef"
      },
      "source": [
        "list(nltk.ngrams(cricket_tokens,5))"
      ],
      "execution_count": 40,
      "outputs": [
        {
          "output_type": "execute_result",
          "data": {
            "text/plain": [
              "[('hello', 'i', 'am', 'a', 'cricket'),\n",
              " ('i', 'am', 'a', 'cricket', 'player'),\n",
              " ('am', 'a', 'cricket', 'player', 'cricket'),\n",
              " ('a', 'cricket', 'player', 'cricket', 'am'),\n",
              " ('cricket', 'player', 'cricket', 'am', 'am')]"
            ]
          },
          "metadata": {
            "tags": []
          },
          "execution_count": 40
        }
      ]
    },
    {
      "cell_type": "code",
      "metadata": {
        "id": "MBAmmdBw7iJn",
        "colab_type": "code",
        "colab": {}
      },
      "source": [
        "#stemming\n",
        "\"\"\"Stemming is the process of reducing or cutting words after removing certain certain suffixes for eg:- studies as studi and giving as giv\"\"\"\n",
        "from nltk.stem import PorterStemmer\n",
        "pst=PorterStemmer()"
      ],
      "execution_count": 0,
      "outputs": []
    },
    {
      "cell_type": "code",
      "metadata": {
        "id": "TLqCP_ms8VRO",
        "colab_type": "code",
        "colab": {
          "base_uri": "https://localhost:8080/",
          "height": 35
        },
        "outputId": "acb35e76-fd20-43b6-e303-d25f77adf25c"
      },
      "source": [
        "pst.stem(\"winning\"),pst.stem(\"giving\"),pst.stem(\"beautiful\")"
      ],
      "execution_count": 53,
      "outputs": [
        {
          "output_type": "execute_result",
          "data": {
            "text/plain": [
              "('win', 'give', 'beauti')"
            ]
          },
          "metadata": {
            "tags": []
          },
          "execution_count": 53
        }
      ]
    },
    {
      "cell_type": "code",
      "metadata": {
        "id": "GfrYmLKb8j2s",
        "colab_type": "code",
        "colab": {}
      },
      "source": [
        "#lemmatising\n",
        "\n",
        "from nltk.stem import wordnet\n",
        "from nltk.stem import WordNetLemmatizer\n",
        "lemmatizer=WordNetLemmatizer()\n"
      ],
      "execution_count": 0,
      "outputs": []
    },
    {
      "cell_type": "code",
      "metadata": {
        "id": "MGar-PFK9Qv4",
        "colab_type": "code",
        "colab": {
          "base_uri": "https://localhost:8080/",
          "height": 108
        },
        "outputId": "95001789-f715-4042-c666-6af9a5694b48"
      },
      "source": [
        "words_to_stem=[\"cats\",\"cacti\",\"geese\",\"studies\",\"children\"]\n",
        "for i in words_to_stem:\n",
        "  print(i+\": \"+ lemmatizer.lemmatize(i))"
      ],
      "execution_count": 57,
      "outputs": [
        {
          "output_type": "stream",
          "text": [
            "cats: cat\n",
            "cacti: cactus\n",
            "geese: goose\n",
            "studies: study\n",
            "children: child\n"
          ],
          "name": "stdout"
        }
      ]
    },
    {
      "cell_type": "code",
      "metadata": {
        "id": "88mAbDHm95e4",
        "colab_type": "code",
        "colab": {}
      },
      "source": [
        "#parts of speech\n",
        "\n",
        "peace=\"What do you mean, 'I don't believe in God'? I talk to him everyday.\""
      ],
      "execution_count": 0,
      "outputs": []
    },
    {
      "cell_type": "code",
      "metadata": {
        "id": "iLIWTetp_FRr",
        "colab_type": "code",
        "colab": {
          "base_uri": "https://localhost:8080/",
          "height": 363
        },
        "outputId": "9d74824d-5123-424d-de09-3fe0da6b4108"
      },
      "source": [
        "peace_tokenize=word_tokenize(peace)\n",
        "peace_tokenize"
      ],
      "execution_count": 66,
      "outputs": [
        {
          "output_type": "execute_result",
          "data": {
            "text/plain": [
              "['What',\n",
              " 'do',\n",
              " 'you',\n",
              " 'mean',\n",
              " ',',\n",
              " \"'I\",\n",
              " 'do',\n",
              " \"n't\",\n",
              " 'believe',\n",
              " 'in',\n",
              " 'God',\n",
              " \"'\",\n",
              " '?',\n",
              " 'I',\n",
              " 'talk',\n",
              " 'to',\n",
              " 'him',\n",
              " 'everyday',\n",
              " '.']"
            ]
          },
          "metadata": {
            "tags": []
          },
          "execution_count": 66
        }
      ]
    },
    {
      "cell_type": "code",
      "metadata": {
        "id": "hImjWj1V_Qzn",
        "colab_type": "code",
        "colab": {
          "base_uri": "https://localhost:8080/",
          "height": 363
        },
        "outputId": "058d6f25-7361-4227-dd9d-d3b60b1ccc4f"
      },
      "source": [
        "for i in peace_tokenize:\n",
        "  print(nltk.pos_tag([i]))"
      ],
      "execution_count": 67,
      "outputs": [
        {
          "output_type": "stream",
          "text": [
            "[('What', 'WP')]\n",
            "[('do', 'VB')]\n",
            "[('you', 'PRP')]\n",
            "[('mean', 'NN')]\n",
            "[(',', ',')]\n",
            "[(\"'I\", 'NNS')]\n",
            "[('do', 'VB')]\n",
            "[(\"n't\", 'RB')]\n",
            "[('believe', 'VB')]\n",
            "[('in', 'IN')]\n",
            "[('God', 'NNP')]\n",
            "[(\"'\", \"''\")]\n",
            "[('?', '.')]\n",
            "[('I', 'PRP')]\n",
            "[('talk', 'NN')]\n",
            "[('to', 'TO')]\n",
            "[('him', 'PRP')]\n",
            "[('everyday', 'NN')]\n",
            "[('.', '.')]\n"
          ],
          "name": "stdout"
        }
      ]
    },
    {
      "cell_type": "code",
      "metadata": {
        "id": "bUo4jPC5_cT0",
        "colab_type": "code",
        "colab": {}
      },
      "source": [
        "#Named Entity Recognition\n",
        "\n",
        "from nltk import ne_chunk"
      ],
      "execution_count": 0,
      "outputs": []
    },
    {
      "cell_type": "code",
      "metadata": {
        "id": "0G126D60AOFP",
        "colab_type": "code",
        "colab": {}
      },
      "source": [
        "john=\"john lives in New York\""
      ],
      "execution_count": 0,
      "outputs": []
    },
    {
      "cell_type": "code",
      "metadata": {
        "id": "NlIWv9tYAVNV",
        "colab_type": "code",
        "colab": {}
      },
      "source": [
        "john_token=word_tokenize(john)"
      ],
      "execution_count": 0,
      "outputs": []
    },
    {
      "cell_type": "code",
      "metadata": {
        "id": "4lJ8RdYBAbKO",
        "colab_type": "code",
        "colab": {
          "base_uri": "https://localhost:8080/",
          "height": 108
        },
        "outputId": "bfa86ab0-5cd9-49d3-e56a-e270bd7c0a89"
      },
      "source": [
        "john_tags=nltk.pos_tag(john_token)\n",
        "john_tags"
      ],
      "execution_count": 86,
      "outputs": [
        {
          "output_type": "execute_result",
          "data": {
            "text/plain": [
              "[('john', 'NN'),\n",
              " ('lives', 'NNS'),\n",
              " ('in', 'IN'),\n",
              " ('New', 'NNP'),\n",
              " ('York', 'NNP')]"
            ]
          },
          "metadata": {
            "tags": []
          },
          "execution_count": 86
        }
      ]
    },
    {
      "cell_type": "code",
      "metadata": {
        "id": "m271fldVAj82",
        "colab_type": "code",
        "colab": {
          "base_uri": "https://localhost:8080/",
          "height": 35
        },
        "outputId": "dc0a3c13-92b8-43ac-8cb8-6038782735f5"
      },
      "source": [
        "john_ner=ne_chunk(john_tags)\n",
        "print(john_ner)"
      ],
      "execution_count": 89,
      "outputs": [
        {
          "output_type": "stream",
          "text": [
            "(S john/NN lives/NNS in/IN (GPE New/NNP York/NNP))\n"
          ],
          "name": "stdout"
        }
      ]
    },
    {
      "cell_type": "code",
      "metadata": {
        "id": "zfmgUMQBBDe-",
        "colab_type": "code",
        "colab": {}
      },
      "source": [
        "\n",
        "#Spacy\n",
        "import spacy\n",
        "nlp=spacy.load('en_core_web_sm')"
      ],
      "execution_count": 0,
      "outputs": []
    },
    {
      "cell_type": "code",
      "metadata": {
        "id": "E6WvSUMlB9Wb",
        "colab_type": "code",
        "colab": {}
      },
      "source": [
        "doc=nlp(\"This is sparta!!\")"
      ],
      "execution_count": 0,
      "outputs": []
    },
    {
      "cell_type": "code",
      "metadata": {
        "id": "NNscQeJ5CPkl",
        "colab_type": "code",
        "colab": {
          "base_uri": "https://localhost:8080/",
          "height": 72
        },
        "outputId": "a6c27865-830b-40e6-b467-4183770b364e"
      },
      "source": [
        "#tokenization \n",
        "for token in doc:\n",
        "  print(token.text)"
      ],
      "execution_count": 95,
      "outputs": [
        {
          "output_type": "stream",
          "text": [
            "This\n",
            "is\n",
            "sparta\n"
          ],
          "name": "stdout"
        }
      ]
    },
    {
      "cell_type": "code",
      "metadata": {
        "id": "vcJfZwF2Cf7S",
        "colab_type": "code",
        "colab": {
          "base_uri": "https://localhost:8080/",
          "height": 35
        },
        "outputId": "229ceaf2-3560-4b62-8f45-f976fb37e963"
      },
      "source": [
        "doc[2]"
      ],
      "execution_count": 97,
      "outputs": [
        {
          "output_type": "execute_result",
          "data": {
            "text/plain": [
              "sparta"
            ]
          },
          "metadata": {
            "tags": []
          },
          "execution_count": 97
        }
      ]
    },
    {
      "cell_type": "code",
      "metadata": {
        "id": "VMbbF3OICnWM",
        "colab_type": "code",
        "colab": {
          "base_uri": "https://localhost:8080/",
          "height": 72
        },
        "outputId": "f8f2d407-4297-4619-8cba-8b91f7d8322d"
      },
      "source": [
        "for token in doc:\n",
        "  print(token.i,token.text,token.pos_)"
      ],
      "execution_count": 103,
      "outputs": [
        {
          "output_type": "stream",
          "text": [
            "0 This DET\n",
            "1 is VERB\n",
            "2 sparta VERB\n"
          ],
          "name": "stdout"
        }
      ]
    },
    {
      "cell_type": "code",
      "metadata": {
        "id": "gOancxn0E-nm",
        "colab_type": "code",
        "colab": {
          "base_uri": "https://localhost:8080/",
          "height": 126
        },
        "outputId": "f33d6db0-cc67-4146-b0f1-234c5cad6b2b"
      },
      "source": [
        "#Named entities Recognition\n",
        "doc=nlp(\"Barack Obama, Narendra Damodardas Modi, Amit Kumar Thakur along with Apple is looking to buy U.K startups at 1$ billion!!\")\n",
        "for ent in doc.ents:\n",
        "  print(ent.text, ent.label_)"
      ],
      "execution_count": 109,
      "outputs": [
        {
          "output_type": "stream",
          "text": [
            "Barack Obama PERSON\n",
            "Narendra Damodardas Modi PERSON\n",
            "Amit Kumar Thakur PERSON\n",
            "Apple ORG\n",
            "U.K GPE\n",
            "1$ billion MONEY\n"
          ],
          "name": "stdout"
        }
      ]
    },
    {
      "cell_type": "code",
      "metadata": {
        "id": "vbMScjpNFSWw",
        "colab_type": "code",
        "colab": {}
      },
      "source": [
        ""
      ],
      "execution_count": 0,
      "outputs": []
    }
  ]
}